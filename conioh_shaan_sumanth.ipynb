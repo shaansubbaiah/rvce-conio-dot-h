{
  "cells": [
    {
      "cell_type": "markdown",
      "metadata": {
        "id": "iMbSuGvAXBZm"
      },
      "source": [
        "## Imports"
      ]
    },
    {
      "cell_type": "code",
      "execution_count": 1,
      "metadata": {
        "id": "lp7uLlGAzEXJ",
        "colab": {
          "base_uri": "https://localhost:8080/"
        },
        "outputId": "7d2ffdc1-1872-48a4-e18e-db54e2b71f19"
      },
      "outputs": [
        {
          "output_type": "stream",
          "name": "stdout",
          "text": [
            "Requirement already satisfied: symbeam in /usr/local/lib/python3.7/dist-packages (1.0.8)\n",
            "Requirement already satisfied: Pillow>=7.2.0 in /usr/local/lib/python3.7/dist-packages (from symbeam) (8.4.0)\n",
            "Requirement already satisfied: mpmath>=1.1.0 in /usr/local/lib/python3.7/dist-packages (from symbeam) (1.2.1)\n",
            "Requirement already satisfied: matplotlib>=3.3.1 in /usr/local/lib/python3.7/dist-packages (from symbeam) (3.5.1)\n",
            "Requirement already satisfied: numpy>=1.19.1 in /usr/local/lib/python3.7/dist-packages (from symbeam) (1.19.5)\n",
            "Requirement already satisfied: six>=1.15.0 in /usr/local/lib/python3.7/dist-packages (from symbeam) (1.15.0)\n",
            "Requirement already satisfied: sympy>=1.6.2 in /usr/local/lib/python3.7/dist-packages (from symbeam) (1.7.1)\n",
            "Requirement already satisfied: pyparsing>=2.4.7 in /usr/local/lib/python3.7/dist-packages (from symbeam) (3.0.6)\n",
            "Requirement already satisfied: python-dateutil>=2.8.1 in /usr/local/lib/python3.7/dist-packages (from symbeam) (2.8.2)\n",
            "Requirement already satisfied: cycler>=0.10.0 in /usr/local/lib/python3.7/dist-packages (from symbeam) (0.11.0)\n",
            "Requirement already satisfied: certifi>=2020.6.20 in /usr/local/lib/python3.7/dist-packages (from symbeam) (2021.10.8)\n",
            "Requirement already satisfied: kiwisolver>=1.2.0 in /usr/local/lib/python3.7/dist-packages (from symbeam) (1.3.2)\n",
            "Requirement already satisfied: fonttools>=4.22.0 in /usr/local/lib/python3.7/dist-packages (from matplotlib>=3.3.1->symbeam) (4.28.3)\n",
            "Requirement already satisfied: packaging>=20.0 in /usr/local/lib/python3.7/dist-packages (from matplotlib>=3.3.1->symbeam) (21.3)\n"
          ]
        }
      ],
      "source": [
        "!pip3 install symbeam\n",
        "%matplotlib inline\n",
        "from symbeam import beam"
      ]
    },
    {
      "cell_type": "markdown",
      "source": [
        "---\n",
        "\n",
        "# Input\n",
        "\n",
        "**Set beam type and length**"
      ],
      "metadata": {
        "id": "ii_AEIy5BqZt"
      }
    },
    {
      "cell_type": "code",
      "source": [
        "beam_type = int(input(\"Choose beam type: \\n1.Cantilever \\n2.Simply Supported \\nChoice:\"))\n",
        "beam_length = int(input(\"Enter beam length: \"))"
      ],
      "metadata": {
        "id": "klZnSU-rBzRG",
        "colab": {
          "base_uri": "https://localhost:8080/"
        },
        "outputId": "2b687fce-451b-4ddf-d1ac-fb24b22221b6"
      },
      "execution_count": 2,
      "outputs": [
        {
          "name": "stdout",
          "output_type": "stream",
          "text": [
            "Choose beam type: \n",
            "1.Cantilever \n",
            "2.Simply Supported \n",
            "Choice:1\n",
            "Enter beam length: 10\n"
          ]
        }
      ]
    },
    {
      "cell_type": "markdown",
      "source": [
        "**Set Supports for Beam**\n",
        "\n"
      ],
      "metadata": {
        "id": "k9daRAD4ZEtn"
      }
    },
    {
      "cell_type": "code",
      "source": [
        "# Set supports for Cantilever\n",
        "if beam_type == 1:\n",
        "  left_support = 'fixed'\n",
        "\n",
        "# Set supports for SimplySupported\n",
        "elif beam_type == 2:\n",
        "  left_support = 'pin'\n",
        "  right_support = 'roller'\n",
        "\n",
        "else:\n",
        "  print('Wrong choice!')"
      ],
      "metadata": {
        "id": "Y18fr-ToZJ-Z"
      },
      "execution_count": 3,
      "outputs": []
    },
    {
      "cell_type": "markdown",
      "source": [
        "**Add Loads**"
      ],
      "metadata": {
        "id": "T9Q3Cz-VYtjB"
      }
    },
    {
      "cell_type": "code",
      "source": [
        "point_load_list = []\n",
        "udl_load_list = []\n",
        "moment_list = []\n",
        "\n",
        "print(\"********************************************************************************************\")\n",
        "load_choice = int(input(\"\\nAdd Loads: \\n1.Point Load \\n2.UDL \\n3.Moment \\n0.Finish \\nChoice: \"))\n",
        "\n",
        "while load_choice != 0:\n",
        "  if load_choice == 1:\n",
        "    point_load_list.append({'mag':int(input(\"\\tEnter magnitude of point load (in N, upward is +ve, downward is -ve): \")), \n",
        "                            'pos':int(input(\"\\tEnter distance of point load (from left end): \"))})\n",
        "  elif load_choice == 2:\n",
        "    udl_load_list.append({'mag':int(input(\"\\tEnter magnitude of UDL (in Nm, upwards is +ve, downwards is -ve): \")), \n",
        "                          'start':int(input(\"\\tEnter starting point of UDL (from left end): \")), \n",
        "                          'end':int(input(\"\\tEnter ending point of UDL (from left end):\"))})\n",
        "  elif load_choice == 3:\n",
        "    moment_list.append({'mag':int(input(\"\\tEnter magnitude of moment (in Nm, clockwise is +ve, anitclockwise is -ve): \")), \n",
        "                        'pos':int(input(\"\\tEnter distance of moment (from left end): \"))})\n",
        "  else:\n",
        "    print(\"Wrong choice\\n\")\n",
        "\n",
        "  print(\"\\n********************************************************************************************\")\n",
        "\n",
        "  load_choice = int(input(\"Add Loads: \\n1.Point Load \\n2.UDL \\n3.Moment \\n0.Finish \\nChoice: \"))\n",
        "  "
      ],
      "metadata": {
        "id": "e5AeCA1akWGO",
        "colab": {
          "base_uri": "https://localhost:8080/"
        },
        "outputId": "be7cac51-7505-4b26-eaaf-d3f5d8c3c920"
      },
      "execution_count": 4,
      "outputs": [
        {
          "name": "stdout",
          "output_type": "stream",
          "text": [
            "********************************************************************************************\n",
            "\n",
            "Add Loads: \n",
            "1.Point Load \n",
            "2.UDL \n",
            "3.Moment \n",
            "0.Finish \n",
            "Choice: 1\n",
            "\tEnter magnitude of point load (in N, upward is +ve, downward is -ve): -20\n",
            "\tEnter distance of point load (from left end): 4\n",
            "\n",
            "********************************************************************************************\n",
            "Add Loads: \n",
            "1.Point Load \n",
            "2.UDL \n",
            "3.Moment \n",
            "0.Finish \n",
            "Choice: 2\n",
            "\tEnter magnitude of UDL (in Nm, upwards is +ve, downwards is -ve): -10\n",
            "\tEnter starting point of UDL (from left end): 6\n",
            "\tEnter ending point of UDL (from left end):8\n",
            "\n",
            "********************************************************************************************\n",
            "Add Loads: \n",
            "1.Point Load \n",
            "2.UDL \n",
            "3.Moment \n",
            "0.Finish \n",
            "Choice: 3\n",
            "\tEnter magnitude of moment (in Nm, clockwise is +ve, anitclockwise is -ve): 30\n",
            "\tEnter distance of moment (from left end): 9\n",
            "\n",
            "********************************************************************************************\n",
            "Add Loads: \n",
            "1.Point Load \n",
            "2.UDL \n",
            "3.Moment \n",
            "0.Finish \n",
            "Choice: 0\n"
          ]
        }
      ]
    },
    {
      "cell_type": "markdown",
      "metadata": {
        "id": "PXKBFcAxYJBr"
      },
      "source": [
        "---\n",
        "\n",
        "## Initialize Beam\n",
        "\n",
        "\n",
        "\n",
        "\n",
        "\n"
      ]
    },
    {
      "cell_type": "code",
      "execution_count": 5,
      "metadata": {
        "id": "EBTsmNfgYPV3"
      },
      "outputs": [],
      "source": [
        "new = beam(length = beam_length)\n"
      ]
    },
    {
      "cell_type": "markdown",
      "metadata": {
        "id": "fXrpMpE-YhXV"
      },
      "source": [
        "## Add supports\n",
        "Options are `pin`, `roller` and `fixed`"
      ]
    },
    {
      "cell_type": "code",
      "execution_count": 6,
      "metadata": {
        "id": "VUCiE2mzzItC"
      },
      "outputs": [],
      "source": [
        "# Add left support\n",
        "new.add_support(x_coord = 0, support_type = left_support)\n",
        "\n",
        "# Add right support, skip if cantalever\n",
        "if beam_type != 1:\n",
        "  new.add_support(x_coord = beam_length, support_type = right_support)\n"
      ]
    },
    {
      "cell_type": "markdown",
      "metadata": {
        "id": "9kX6OSTiZUfH"
      },
      "source": [
        "## Add loads\n",
        "Apply external loads to the beam. These can be point forces, point moments or distributed forces."
      ]
    },
    {
      "cell_type": "code",
      "execution_count": 7,
      "metadata": {
        "id": "62ZGuZTlZueW"
      },
      "outputs": [],
      "source": [
        "# Add Point Load\n",
        "for point_load in point_load_list:\n",
        "  new.add_point_load(x_coord = point_load['pos'], value = point_load['mag'])\n",
        "\n",
        "# Add Uniformly Distributed Load\n",
        "for udl_load in udl_load_list:\n",
        "  new.add_distributed_load(x_start = udl_load['start'], x_end = udl_load['end'], expression = udl_load['mag'])\n",
        "\n",
        "# Add Moments\n",
        "for moments in moment_list:\n",
        "  new.add_point_moment(x_coord = moments['pos'], value = moments['mag'])"
      ]
    },
    {
      "cell_type": "markdown",
      "metadata": {
        "id": "d2td5xs2bUfS"
      },
      "source": [
        "## Solve the problem and plot the results"
      ]
    },
    {
      "cell_type": "code",
      "execution_count": 8,
      "metadata": {
        "colab": {
          "base_uri": "https://localhost:8080/"
        },
        "id": "AyZDSZJCztY7",
        "outputId": "2ec75580-8f5d-42b9-fe5c-ad43ca8af51d"
      },
      "outputs": [
        {
          "output_type": "stream",
          "name": "stdout",
          "text": [
            "\n",
            "                                    Beam points                                    \n",
            "===================================================================================\n",
            "     Coordinate              Type                 Load                Moment       \n",
            "-----------------------------------------------------------------------------------\n",
            "         0                  Fixed                  0                    0          \n",
            "         4             Continuity point           -20                   0          \n",
            "         6             Continuity point            0                    0          \n",
            "         8             Continuity point            0                    0          \n",
            "         9             Continuity point            0                    30         \n",
            "         10            Continuity point            0                    0          \n",
            "===================================================================================\n",
            "\n",
            "\n",
            "                                   Beam segments                                   \n",
            "===================================================================================\n",
            "        Span            Young modulus           Inertia          Distributed load  \n",
            "-----------------------------------------------------------------------------------\n",
            " [   0   -   4   ]            E                    I                    0          \n",
            " [   4   -   6   ]            E                    I                    0          \n",
            " [   6   -   8   ]            E                    I                   -10         \n",
            " [   8   -   9   ]            E                    I                    0          \n",
            " [   9   -  10   ]            E                    I                    0          \n",
            "===================================================================================\n",
            "\n",
            "\n",
            "                                Exterior Reactions                                 \n",
            "===================================================================================\n",
            "           Point                       Type                        Value           \n",
            "-----------------------------------------------------------------------------------\n",
            "             0                         Force                        40             \n",
            "             0                        Moment                        190            \n",
            "===================================================================================\n",
            "\n",
            "\n",
            "                                  Internal Loads                                   \n",
            "===================================================================================\n",
            "        Span          Diagram                       Expression                    \n",
            "-----------------------------------------------------------------------------------\n",
            " [   0   -   4   ]      V(x)                           -40                        \n",
            " [   0   -   4   ]      M(x)                        40*x - 190                    \n",
            "-----------------------------------------------------------------------------------\n",
            " [   4   -   6   ]      V(x)                           -20                        \n",
            " [   4   -   6   ]      M(x)                        20*x - 110                    \n",
            "-----------------------------------------------------------------------------------\n",
            " [   6   -   8   ]      V(x)                        10*x - 80                     \n",
            " [   6   -   8   ]      M(x)                   -5*x**2 + 80*x - 290               \n",
            "-----------------------------------------------------------------------------------\n",
            " [   8   -   9   ]      V(x)                            0                         \n",
            " [   8   -   9   ]      M(x)                            30                        \n",
            "-----------------------------------------------------------------------------------\n",
            " [   9   -  10   ]      V(x)                            0                         \n",
            " [   9   -  10   ]      M(x)                            0                         \n",
            "===================================================================================\n",
            "\n",
            "\n",
            "                              Rotation and deflection                              \n",
            "===================================================================================\n",
            "        Span          Variable                      Expression                    \n",
            "-----------------------------------------------------------------------------------\n",
            " [   0   -   4   ]      v(x)             20*x**3/(3*E*I) - 95*x**2/(E*I)          \n",
            " [   0   -   4   ]    dv/dx(x)             20*x**2/(E*I) - 190*x/(E*I)            \n",
            "-----------------------------------------------------------------------------------\n",
            " [   4   -   6   ]      v(x)    10*x**3/(3*E*I) - 55*x**2/(E*I) - 160*x/(E*I) + 640/(3*E*I)\n",
            " [   4   -   6   ]    dv/dx(x)       10*x**2/(E*I) - 110*x/(E*I) - 160/(E*I)      \n",
            "-----------------------------------------------------------------------------------\n",
            " [   6   -   8   ]      v(x)    -5*x**4/(12*E*I) + 40*x**3/(3*E*I) - 145*x**2/(E*I) + 200*x/(E*I) - 980/(3*E*I)\n",
            " [   6   -   8   ]    dv/dx(x)  -5*x**3/(3*E*I) + 40*x**2/(E*I) - 290*x/(E*I) + 200/(E*I)\n",
            "-----------------------------------------------------------------------------------\n",
            " [   8   -   9   ]      v(x)       15*x**2/(E*I) - 1960*x/(3*E*I) + 1380/(E*I)    \n",
            " [   8   -   9   ]    dv/dx(x)              30*x/(E*I) - 1960/(3*E*I)             \n",
            "-----------------------------------------------------------------------------------\n",
            " [   9   -  10   ]      v(x)               -1150*x/(3*E*I) + 165/(E*I)            \n",
            " [   9   -  10   ]    dv/dx(x)                    -1150/(3*E*I)                   \n",
            "===================================================================================\n",
            "\n"
          ]
        }
      ],
      "source": [
        "new.solve()"
      ]
    },
    {
      "cell_type": "code",
      "execution_count": 9,
      "metadata": {
        "id": "IcNGLQ1NrwkR",
        "scrolled": true,
        "colab": {
          "base_uri": "https://localhost:8080/",
          "height": 688
        },
        "outputId": "2651ab35-c12a-4f57-b617-ed19e1b20ab5"
      },
      "outputs": [
        {
          "output_type": "execute_result",
          "data": {
            "text/plain": [
              "(<Figure size 504x576 with 4 Axes>,\n",
              " array([<AxesSubplot:>, <AxesSubplot:ylabel='Shear force, $V(x)$'>,\n",
              "        <AxesSubplot:ylabel='Bending moment, $M(x)$'>,\n",
              "        <AxesSubplot:xlabel='Coordinate, $x$', ylabel='Deflection, $v(x)$'>],\n",
              "       dtype=object))"
            ]
          },
          "metadata": {},
          "execution_count": 9
        },
        {
          "output_type": "display_data",
          "data": {
            "image/png": "[encoded data removed]",
            "text/plain": [
              "<Figure size 504x576 with 4 Axes>"
            ]
          },
          "metadata": {
            "needs_background": "light"
          }
        }
      ],
      "source": [
        "new.plot()"
      ]
    }
  ],
  "metadata": {
    "colab": {
      "collapsed_sections": [],
      "name": "conioh_shaan_sumanth.ipynb",
      "provenance": []
    },
    "kernelspec": {
      "display_name": "Python 3",
      "language": "python",
      "name": "python3"
    },
    "language_info": {
      "codemirror_mode": {
        "name": "ipython",
        "version": 3
      },
      "file_extension": ".py",
      "mimetype": "text/x-python",
      "name": "python",
      "nbconvert_exporter": "python",
      "pygments_lexer": "ipython3",
      "version": "3.7.10"
    }
  },
  "nbformat": 4,
  "nbformat_minor": 0
}